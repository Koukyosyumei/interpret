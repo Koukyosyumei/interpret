{
 "cells": [
  {
   "cell_type": "markdown",
   "source": [
    "# Saving/loading InterpretML EBMs to/from JSON"
   ],
   "metadata": {}
  },
  {
   "cell_type": "markdown",
   "source": [
    "This demonstration assumes the following:\r\n",
    "* no pairs\r\n",
    "* only continuous values\r\n",
    "* serialized model has already been fit\r\n",
    "* no missing values\r\n",
    "* global explanations only\r\n",
    "* no data in serialized format"
   ],
   "metadata": {}
  },
  {
   "cell_type": "markdown",
   "source": [
    "## Setup a classification experiment"
   ],
   "metadata": {}
  },
  {
   "cell_type": "code",
   "execution_count": 2,
   "source": [
    "import pandas as pd\r\n",
    "from sklearn.model_selection import train_test_split  \r\n",
    "\r\n",
    "df = pd.read_csv(\r\n",
    "    \"https://archive.ics.uci.edu/ml/machine-learning-databases/breast-cancer-wisconsin/breast-cancer-wisconsin.data\",\r\n",
    "    header=None)\r\n",
    "\r\n",
    "df.columns = [\r\n",
    "    \"sample_code_number\", \"clump_thickness\", \"uniformity_of_cell_size\", \"uniformity_of_cell_shape\", \r\n",
    "    \"marginal_adhesion\", \"single_epithelial_cell_size\", \"bare_nuclei\", \"bland_chromatin\",\r\n",
    "    \"normal_nucleoli\", \"mitoses\", \"class\"\r\n",
    "]\r\n",
    "\r\n",
    "# drop any rows that have missing values\r\n",
    "df = df[~df.eq('?').any(1)]\r\n",
    "\r\n",
    "# force bare_nuclei column to int64 data type after dropping '?' values\r\n",
    "df['bare_nuclei'] = df['bare_nuclei'].astype(str).astype(int)\r\n",
    "\r\n",
    "#print(df.head(n=10).to_string(index=False))\r\n",
    "\r\n",
    "train_cols = df.columns[1:-1]\r\n",
    "label = df.columns[-1]\r\n",
    "X = df[train_cols]\r\n",
    "y = df[label].apply(lambda x: 0 if x == 2 else 1)\r\n",
    "\r\n",
    "seed = 1\r\n",
    "X_train, X_test, y_train, y_test = train_test_split(X, y, test_size=0.20, random_state=seed)\r\n"
   ],
   "outputs": [],
   "metadata": {}
  },
  {
   "cell_type": "markdown",
   "source": [
    "## Explore the dataset"
   ],
   "metadata": {}
  },
  {
   "cell_type": "code",
   "execution_count": 3,
   "source": [
    "from interpret import show\r\n",
    "from interpret.data import ClassHistogram\r\n",
    "\r\n",
    "hist = ClassHistogram().explain_data(X_train, y_train, name = 'Train Data')\r\n",
    "show(hist)"
   ],
   "outputs": [
    {
     "output_type": "display_data",
     "data": {
      "text/html": [
       "<!-- http://127.0.0.1:7604/1931038068304/ -->\n",
       "<iframe src=\"http://127.0.0.1:7604/1931038068304/\" width=100% height=800 frameBorder=\"0\"></iframe>"
      ]
     },
     "metadata": {}
    }
   ],
   "metadata": {}
  },
  {
   "cell_type": "code",
   "execution_count": 6,
   "source": [
    "from interpret.glassbox import ExplainableBoostingClassifier, LogisticRegression, ClassificationTree, DecisionListClassifier\r\n",
    "\r\n",
    "ebm_orig = ExplainableBoostingClassifier(random_state=seed, n_jobs=-1, interactions=0)\r\n",
    "ebm_orig.fit(X_train, y_train)   "
   ],
   "outputs": [
    {
     "output_type": "execute_result",
     "data": {
      "text/plain": [
       "ExplainableBoostingClassifier(feature_names=['clump_thickness',\n",
       "                                             'uniformity_of_cell_size',\n",
       "                                             'uniformity_of_cell_shape',\n",
       "                                             'marginal_adhesion',\n",
       "                                             'single_epithelial_cell_size',\n",
       "                                             'bare_nuclei', 'bland_chromatin',\n",
       "                                             'normal_nucleoli', 'mitoses'],\n",
       "                              feature_types=['continuous', 'continuous',\n",
       "                                             'continuous', 'continuous',\n",
       "                                             'continuous', 'continuous',\n",
       "                                             'continuous', 'continuous',\n",
       "                                             'continuous'],\n",
       "                              interactions=0, n_jobs=-1, random_state=1)"
      ]
     },
     "metadata": {},
     "execution_count": 6
    }
   ],
   "metadata": {}
  },
  {
   "cell_type": "markdown",
   "source": [
    "## Serialize the trained EBM to JSON and deserialize into new EBM object"
   ],
   "metadata": {}
  },
  {
   "cell_type": "code",
   "execution_count": 7,
   "source": [
    "from interpret.utils.ebm_dto import EBMDTO\r\n",
    "\r\n",
    "ebm_dto_orig = EBMDTO.from_ebm(ebm_orig)\r\n",
    "json_str = ebm_dto_orig.to_json()\r\n",
    "ebm_dto_deserialized = EBMDTO.load_json(json_str)\r\n",
    "assert(ebm_dto_orig == ebm_dto_deserialized)\r\n",
    "ebm_deserialized = ebm_dto_deserialized.to_ebm()"
   ],
   "outputs": [],
   "metadata": {}
  },
  {
   "cell_type": "markdown",
   "source": [
    "## Do the original and deserialized EBMs give the same predictions?"
   ],
   "metadata": {}
  },
  {
   "cell_type": "code",
   "execution_count": 8,
   "source": [
    "import numpy as np\r\n",
    "\r\n",
    "ebm_orig_predictions = ebm_orig.predict(X_test)\r\n",
    "ebm_orig_probabilities = ebm_orig.predict_proba(X_test)\r\n",
    "ebm_deserialized_predictions = ebm_deserialized.predict(X_test)\r\n",
    "ebm_deserialized_probabilities = ebm_deserialized.predict_proba(X_test)\r\n",
    "\r\n",
    "assert np.array_equal(ebm_orig_predictions, ebm_deserialized_predictions)\r\n",
    "assert np.array_equal(ebm_orig_probabilities, ebm_deserialized_probabilities)"
   ],
   "outputs": [],
   "metadata": {}
  },
  {
   "cell_type": "markdown",
   "source": [
    "## Global explanations based on the deserialized EBM"
   ],
   "metadata": {}
  },
  {
   "cell_type": "code",
   "execution_count": null,
   "source": [
    "ebm_deserialized_global = ebm_deserialized.explain_global(name='EBM')\r\n",
    "show(ebm_deserialized_global)"
   ],
   "outputs": [],
   "metadata": {}
  }
 ],
 "metadata": {
  "interpreter": {
   "hash": "a7af01c03129762fe64321f262bbde073df4bcc1b9dc61c0aae9860bf41de141"
  },
  "kernelspec": {
   "name": "python3",
   "display_name": "Python 3.8.8 64-bit ('interpret': conda)"
  },
  "language_info": {
   "name": "python",
   "version": "3.8.8",
   "mimetype": "text/x-python",
   "codemirror_mode": {
    "name": "ipython",
    "version": 3
   },
   "pygments_lexer": "ipython3",
   "nbconvert_exporter": "python",
   "file_extension": ".py"
  },
  "orig_nbformat": 4
 },
 "nbformat": 4,
 "nbformat_minor": 2
}